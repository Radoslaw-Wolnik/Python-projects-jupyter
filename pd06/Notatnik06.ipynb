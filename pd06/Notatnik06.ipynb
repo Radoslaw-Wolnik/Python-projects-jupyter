{
 "cells": [
  {
   "cell_type": "code",
   "execution_count": 6,
   "metadata": {},
   "outputs": [
    {
     "name": "stdout",
     "output_type": "stream",
     "text": [
      "[('h', -8), ('g', -7), ('f', -6), ('e', -5), ('d', -4), ('c', -3), ('b', -2), ('a', -1)]\n",
      "[('a', -1), ('b', -2), ('c', -3), ('d', -4), ('e', -5), ('f', -6), ('g', -7), ('h', -8)]\n"
     ]
    }
   ],
   "source": [
    "def quicksort (lista, el = 0):\n",
    "    less = []\n",
    "    equal = []\n",
    "    greater = []\n",
    "    \n",
    "    \n",
    "    \n",
    "    if len(lista) > 1:\n",
    "        pivot = lista[0][el]\n",
    "        \n",
    "        for krotka in lista:\n",
    "            if krotka[el] == pivot:\n",
    "                equal.append(krotka)\n",
    "            elif krotka[el] > pivot:\n",
    "                greater.append(krotka)\n",
    "            else:\n",
    "                less.append(krotka)\n",
    "        return quicksort(less, el) + equal + quicksort(greater, el)\n",
    "    return lista\n",
    "        \n",
    "\n",
    "L = [('g', -7), ('b', -2), ('f', -6), ('e', -5), ('a', -1), ('d', -4), ('c', -3), ('h', -8)]\n",
    "\n",
    "\n",
    "print(quicksort(L,1))\n",
    "print(quicksort(L,0))"
   ]
  },
  {
   "cell_type": "code",
   "execution_count": 4,
   "metadata": {},
   "outputs": [
    {
     "ename": "KeyboardInterrupt",
     "evalue": "",
     "output_type": "error",
     "traceback": [
      "\u001b[0;31m---------------------------------------------------------------------------\u001b[0m",
      "\u001b[0;31mKeyboardInterrupt\u001b[0m                         Traceback (most recent call last)",
      "\u001b[0;32m<ipython-input-4-ca73e02fdace>\u001b[0m in \u001b[0;36m<module>\u001b[0;34m\u001b[0m\n\u001b[1;32m     14\u001b[0m \u001b[0;34m\u001b[0m\u001b[0m\n\u001b[1;32m     15\u001b[0m \u001b[0;34m\u001b[0m\u001b[0m\n\u001b[0;32m---> 16\u001b[0;31m \u001b[0mwstawianie\u001b[0m\u001b[0;34m(\u001b[0m\u001b[0;34m[\u001b[0m\u001b[0;36m8\u001b[0m\u001b[0;34m,\u001b[0m\u001b[0;36m3\u001b[0m\u001b[0;34m,\u001b[0m\u001b[0;36m6\u001b[0m\u001b[0;34m,\u001b[0m\u001b[0;36m2\u001b[0m\u001b[0;34m,\u001b[0m\u001b[0;34m-\u001b[0m\u001b[0;36m1\u001b[0m\u001b[0;34m,\u001b[0m\u001b[0;36m5\u001b[0m\u001b[0;34m,\u001b[0m\u001b[0;36m2\u001b[0m\u001b[0;34m,\u001b[0m\u001b[0;36m9\u001b[0m\u001b[0;34m]\u001b[0m\u001b[0;34m)\u001b[0m\u001b[0;34m\u001b[0m\u001b[0;34m\u001b[0m\u001b[0m\n\u001b[0m\u001b[1;32m     17\u001b[0m \u001b[0;34m\u001b[0m\u001b[0m\n",
      "\u001b[0;32m<ipython-input-4-ca73e02fdace>\u001b[0m in \u001b[0;36mwstawianie\u001b[0;34m(L)\u001b[0m\n\u001b[1;32m      6\u001b[0m         \u001b[0;32melse\u001b[0m\u001b[0;34m:\u001b[0m\u001b[0;34m\u001b[0m\u001b[0;34m\u001b[0m\u001b[0m\n\u001b[1;32m      7\u001b[0m             \u001b[0;32mfor\u001b[0m \u001b[0mi\u001b[0m \u001b[0;32min\u001b[0m \u001b[0mrange\u001b[0m \u001b[0;34m(\u001b[0m\u001b[0mlen\u001b[0m\u001b[0;34m(\u001b[0m\u001b[0mresult\u001b[0m\u001b[0;34m)\u001b[0m \u001b[0;34m-\u001b[0m \u001b[0;36m1\u001b[0m\u001b[0;34m,\u001b[0m \u001b[0;34m-\u001b[0m\u001b[0;36m1\u001b[0m\u001b[0;34m,\u001b[0m \u001b[0;34m-\u001b[0m\u001b[0;36m1\u001b[0m\u001b[0;34m)\u001b[0m\u001b[0;34m:\u001b[0m\u001b[0;34m\u001b[0m\u001b[0;34m\u001b[0m\u001b[0m\n\u001b[0;32m----> 8\u001b[0;31m                 \u001b[0;32mif\u001b[0m \u001b[0mL\u001b[0m\u001b[0;34m[\u001b[0m\u001b[0;36m0\u001b[0m\u001b[0;34m]\u001b[0m \u001b[0;34m<\u001b[0m \u001b[0mresult\u001b[0m\u001b[0;34m[\u001b[0m\u001b[0mi\u001b[0m\u001b[0;34m]\u001b[0m\u001b[0;34m:\u001b[0m\u001b[0;34m\u001b[0m\u001b[0;34m\u001b[0m\u001b[0m\n\u001b[0m\u001b[1;32m      9\u001b[0m                     \u001b[0mresult\u001b[0m\u001b[0;34m.\u001b[0m\u001b[0minsert\u001b[0m\u001b[0;34m(\u001b[0m\u001b[0mL\u001b[0m\u001b[0;34m[\u001b[0m\u001b[0;36m0\u001b[0m\u001b[0;34m]\u001b[0m\u001b[0;34m,\u001b[0m\u001b[0mi\u001b[0m\u001b[0;34m)\u001b[0m\u001b[0;34m\u001b[0m\u001b[0;34m\u001b[0m\u001b[0m\n\u001b[1;32m     10\u001b[0m                     \u001b[0;32mdel\u001b[0m \u001b[0mL\u001b[0m\u001b[0;34m[\u001b[0m\u001b[0;36m0\u001b[0m\u001b[0;34m]\u001b[0m\u001b[0;34m\u001b[0m\u001b[0;34m\u001b[0m\u001b[0m\n",
      "\u001b[0;31mKeyboardInterrupt\u001b[0m: "
     ]
    }
   ],
   "source": [
    "\n",
    "def wstawianie (L):\n",
    "    result = []\n",
    "    while len(L) > 0:\n",
    "        if len(result) == 0:\n",
    "            result.append(L[0])\n",
    "        else:\n",
    "            for i in range (len(result) - 1, -1, -1):\n",
    "                if L[0] < result[i]:\n",
    "                    result.insert(L[0],i)\n",
    "                    del L[0]\n",
    "                    break\n",
    "                    \n",
    "    return result\n",
    "\n",
    "\n",
    "wstawianie([8,3,6,2,-1,5,2,9])\n",
    "# nie wiem co nie dziala"
   ]
  },
  {
   "cell_type": "code",
   "execution_count": 6,
   "metadata": {},
   "outputs": [
    {
     "name": "stdout",
     "output_type": "stream",
     "text": [
      "4\n",
      "3\n",
      "2\n",
      "1\n",
      "0\n"
     ]
    }
   ],
   "source": [
    "result = [i for i in range(5)]\n",
    "for i in range (len(result)-1 , -1, -1):\n",
    "    print(result[i])"
   ]
  },
  {
   "cell_type": "code",
   "execution_count": 7,
   "metadata": {},
   "outputs": [],
   "source": [
    "# -----------------------------\n",
    "# programowanie obiktowe"
   ]
  },
  {
   "cell_type": "code",
   "execution_count": null,
   "metadata": {},
   "outputs": [],
   "source": [
    "class NazwaKlasy:\n",
    "    '''docstring'''\n",
    "    pass"
   ]
  },
  {
   "cell_type": "code",
   "execution_count": null,
   "metadata": {},
   "outputs": [],
   "source": [
    "class NazwaKlasy (object):\n",
    "    '''docstring'''\n",
    "    pass"
   ]
  },
  {
   "cell_type": "code",
   "execution_count": 10,
   "metadata": {},
   "outputs": [
    {
     "name": "stdout",
     "output_type": "stream",
     "text": [
      "<class '__main__.Talerz'>\n",
      "20\n",
      "True\n",
      "plastikplastikplastik\n"
     ]
    }
   ],
   "source": [
    "class Talerz: \n",
    "    '''docstring'''\n",
    "    \n",
    "    def __init__(self, wielkosc, kolor, material, okrag):\n",
    "        self.wielkosc = wielkosc\n",
    "        self.kolor = kolor\n",
    "        self.material = material\n",
    "        self.okrag = okrag\n",
    "        \n",
    "    # pierwszy parametr funkcji w klasie bedzie oznaczac nazwe instancji\n",
    "    def a(instancja):\n",
    "        return instancja.material * 3\n",
    "    # ale przyjmuje sie ze nazwa tego parametru to self, jednakowoz nazwa nie ma znaczenia\n",
    "        \n",
    "t1 = Talerz(20, 'czarny', 'plastik', True)\n",
    "\n",
    "print( type(t1) )\n",
    "print( t1.wielkosc )\n",
    "print( t1.okrag )\n",
    "\n",
    "print( t1.a() )"
   ]
  },
  {
   "cell_type": "code",
   "execution_count": null,
   "metadata": {},
   "outputs": [],
   "source": [
    "class Ksiazka: \n",
    "    '''__init__(self, tytul(str), autor(str), rok_wydania(int), oprawa(str), ISBN(str), cena(num), kategoria(str), wydawnictwo(str))'''\n",
    "    \n",
    "    def __init__(self, tytul, autor, rok_wydania, oprawa, ISBN, cena, kategoria, wydawnictwo):\n",
    "        self.tytul = tytul\n",
    "        self.autor = autor\n",
    "        self.rok_wydania = int(rok_wydania)\n",
    "        self.oprawa = oprawa\n",
    "        self.ISBN = ISBN\n",
    "        self.cena = float(cena)\n",
    "        self.kategoria = kategoria\n",
    "        self.wydawnictwo = wydawnictwo\n",
    "        \n",
    "k1 = ksiazka('Maly Ksiaze', ' Antoine’a de Saint-Exupéry', 1943, 'twarda', '9788310132161', 17.90, 'fantasy', 'Nasza Ksiegarnia')"
   ]
  },
  {
   "cell_type": "code",
   "execution_count": 12,
   "metadata": {},
   "outputs": [
    {
     "ename": "AttributeError",
     "evalue": "'Talerz' object has no attribute 'set_wielkosc'",
     "output_type": "error",
     "traceback": [
      "\u001b[0;31m---------------------------------------------------------------------------\u001b[0m",
      "\u001b[0;31mAttributeError\u001b[0m                            Traceback (most recent call last)",
      "\u001b[0;32m<ipython-input-12-16caa8ad3281>\u001b[0m in \u001b[0;36m<module>\u001b[0;34m\u001b[0m\n\u001b[1;32m     25\u001b[0m \u001b[0;34m\u001b[0m\u001b[0m\n\u001b[1;32m     26\u001b[0m \u001b[0mt2\u001b[0m \u001b[0;34m=\u001b[0m \u001b[0mTalerz\u001b[0m\u001b[0;34m(\u001b[0m\u001b[0;36m20\u001b[0m\u001b[0;34m,\u001b[0m \u001b[0;34m'czarny'\u001b[0m\u001b[0;34m,\u001b[0m \u001b[0;34m'plastik'\u001b[0m\u001b[0;34m,\u001b[0m \u001b[0;32mTrue\u001b[0m\u001b[0;34m)\u001b[0m\u001b[0;34m\u001b[0m\u001b[0;34m\u001b[0m\u001b[0m\n\u001b[0;32m---> 27\u001b[0;31m \u001b[0mt2\u001b[0m\u001b[0;34m.\u001b[0m\u001b[0mset_wielkosc\u001b[0m\u001b[0;34m(\u001b[0m\u001b[0;34m)\u001b[0m\u001b[0;34m\u001b[0m\u001b[0;34m\u001b[0m\u001b[0m\n\u001b[0m",
      "\u001b[0;31mAttributeError\u001b[0m: 'Talerz' object has no attribute 'set_wielkosc'"
     ]
    }
   ],
   "source": [
    "class Talerz: \n",
    "    '''docstring'''\n",
    "    \n",
    "    def __init__(self, wielkosc, kolor, material, okrag):\n",
    "        self.wielkosc = wielkosc\n",
    "        self.kolor = kolor\n",
    "        self.material = material\n",
    "        self.okrag = okrag\n",
    "        \n",
    "        def get_wielkosc(self):\n",
    "            return self.wielkosc\n",
    "        def get_kolor(self):\n",
    "            return self.kolor\n",
    "        def get_material(self):\n",
    "            return self.material\n",
    "        def get_okrag(self):\n",
    "            return self.okrag\n",
    "        \n",
    "        def set_wielkosc(self, x):\n",
    "            if type(x) == int:\n",
    "                self.wielkosc = x\n",
    "            else:\n",
    "                raise TypeError ('podaj int')\n",
    "                \n",
    "                \n",
    "t2 = Talerz(20, 'czarny', 'plastik', True)\n",
    "t2.set_wielkosc()"
   ]
  },
  {
   "cell_type": "code",
   "execution_count": null,
   "metadata": {},
   "outputs": [],
   "source": [
    "class Ksiazka: \n",
    "    '''__init__(self, tytul(str), autor(str), rok_wydania(int), oprawa(str), ISBN(str), cena(num), kategoria(str), wydawnictwo(str))'''\n",
    "    \n",
    "    def __init__(self, tytul, autor, rok_wydania, oprawa, ISBN, cena, kategoria, wydawnictwo):\n",
    "        self.tytul = tytul\n",
    "        self.autor = autor\n",
    "        self.rok_wydania = int(rok_wydania)\n",
    "        self.oprawa = oprawa\n",
    "        self.ISBN = ISBN\n",
    "        self.cena = float(cena)\n",
    "        self.kategoria = kategoria\n",
    "        self.wydawnictwo = wydawnictwo\n",
    "        \n",
    "        \n",
    "    def get_tytul (self):\n",
    "        return self.tytul\n",
    "    \n",
    "    def get_autor (self):\n",
    "        return self.autor\n",
    "    \n",
    "    def get_rok_wydania (self):\n",
    "        return self.rok_wydania\n",
    "    \n",
    "    def get_oprawa (self):\n",
    "        return self.oprawa\n",
    "    \n",
    "    def get_ISBN (self):\n",
    "        return self.ISBN\n",
    "    \n",
    "    def get_cena (self):\n",
    "        return self.cena\n",
    "    \n",
    "    def get_kategoria (self):\n",
    "        return self.kategoria\n",
    "    \n",
    "    def get_wydawnictwo (self):\n",
    "        return self.wydawnictwo\n",
    "    \n",
    "    \n",
    "    def set_tytul (self, x):\n",
    "        if type(x) == str:\n",
    "            self.tytul = x\n",
    "        else:\n",
    "            raise TypeError('podaj STR')\n",
    "            \n",
    "    def set_autor (self, x):\n",
    "        if type(x) == str:\n",
    "            self.autor = x\n",
    "        else:\n",
    "            raise TypeError('podaj STR')\n",
    "            \n",
    "    def set_rok_wydania (self, x):\n",
    "        if type(x) == int:\n",
    "            self.rok_wydania = x\n",
    "        else:\n",
    "            raise TypeError('podaj INT')\n",
    "            \n",
    "    def set_oprawa (self, x):\n",
    "        if type(x) == str:\n",
    "            self.oprawa = x\n",
    "        else:\n",
    "            raise TypeError('podaj STR')\n",
    "            \n",
    "    def set_ISBN (self, x):\n",
    "        if type(x) == str:\n",
    "            self.ISBN = x\n",
    "        else:\n",
    "            raise TypeError('podaj STR')\n",
    "            \n",
    "    def set_cena (self, x):\n",
    "        if type(x) == float:\n",
    "            self.cena = x\n",
    "        else:\n",
    "            raise TypeError('podaj NUM')\n",
    "            \n",
    "    def set_kategoria (self, x):\n",
    "        if type(x) == str:\n",
    "            self.kategoria = x\n",
    "        else:\n",
    "            raise TypeError('podaj STR')\n",
    "            \n",
    "    def set_wydawnictwo (self, x):\n",
    "        if type(x) == str:\n",
    "            self.wydawnictwo = x\n",
    "        else:\n",
    "            raise TypeError('podaj STR')\n",
    "        \n",
    "k1 = ksiazka('Maly Ksiaze', ' Antoine’a de Saint-Exupéry', 1943, 'twarda', '9788310132161', 17.90, 'fantasy', 'Nasza Ksiegarnia')"
   ]
  }
 ],
 "metadata": {
  "kernelspec": {
   "display_name": "Python 3",
   "language": "python",
   "name": "python3"
  },
  "language_info": {
   "codemirror_mode": {
    "name": "ipython",
    "version": 3
   },
   "file_extension": ".py",
   "mimetype": "text/x-python",
   "name": "python",
   "nbconvert_exporter": "python",
   "pygments_lexer": "ipython3",
   "version": "3.7.3"
  }
 },
 "nbformat": 4,
 "nbformat_minor": 2
}
